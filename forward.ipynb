{
 "cells": [
  {
   "cell_type": "code",
   "execution_count": 17,
   "id": "3f429bdb",
   "metadata": {},
   "outputs": [],
   "source": [
    "import tensorflow as tf\n",
    "from tensorflow import keras\n",
    "from tensorflow.keras import datasets"
   ]
  },
  {
   "cell_type": "code",
   "execution_count": 18,
   "id": "89c4a80a",
   "metadata": {},
   "outputs": [],
   "source": [
    "# x: [60k, 28, 28]\n",
    "# y: [60k]\n",
    "(x_train, y_train), (x_test, y_test) = datasets.mnist.load_data()"
   ]
  },
  {
   "cell_type": "code",
   "execution_count": 19,
   "id": "fc36c04c",
   "metadata": {},
   "outputs": [
    {
     "name": "stdout",
     "output_type": "stream",
     "text": [
      "(60000, 28, 28) (60000,) <dtype: 'float32'> <dtype: 'int32'>\n"
     ]
    }
   ],
   "source": [
    "x_train = tf.convert_to_tensor(x_train, dtype=tf.float32) / 255.\n",
    "y_train = tf.convert_to_tensor(y_train, dtype=tf.int32)\n",
    "print(x_train.shape, y_train.shape, x_train.dtype, y_train.dtype)"
   ]
  },
  {
   "cell_type": "code",
   "execution_count": 20,
   "id": "9e828898",
   "metadata": {},
   "outputs": [
    {
     "name": "stdout",
     "output_type": "stream",
     "text": [
      "tf.Tensor(0.0, shape=(), dtype=float32) tf.Tensor(1.0, shape=(), dtype=float32)\n",
      "tf.Tensor(0, shape=(), dtype=int32) tf.Tensor(9, shape=(), dtype=int32)\n"
     ]
    }
   ],
   "source": [
    "print(tf.reduce_min(x_train), tf.reduce_max(x_train))\n",
    "print(tf.reduce_min(y_train), tf.reduce_max(y_train))"
   ]
  },
  {
   "cell_type": "code",
   "execution_count": 21,
   "id": "9268817a",
   "metadata": {},
   "outputs": [
    {
     "name": "stdout",
     "output_type": "stream",
     "text": [
      "batch:  (128, 28, 28) (128,)\n"
     ]
    }
   ],
   "source": [
    "train_db = tf.data.Dataset.from_tensor_slices((x_train, y_train)).batch(128)\n",
    "# 迭代器对象可以逐个返回训练数据集中的样本\n",
    "train_iter = iter(train_db)\n",
    "sample = next(train_iter)\n",
    "print('batch: ', sample[0].shape, sample[1].shape)"
   ]
  },
  {
   "cell_type": "code",
   "execution_count": 44,
   "id": "21dca6e3",
   "metadata": {},
   "outputs": [
    {
     "name": "stdout",
     "output_type": "stream",
     "text": [
      "0 0 loss: 0.32913342118263245\n",
      "0 100 loss: 0.21052272617816925\n",
      "0 200 loss: 0.18602678179740906\n",
      "0 300 loss: 0.17267438769340515\n",
      "0 400 loss: 0.16706109046936035\n",
      "1 0 loss: 0.15964654088020325\n",
      "1 100 loss: 0.1611134111881256\n",
      "1 200 loss: 0.14721903204917908\n",
      "1 300 loss: 0.14018478989601135\n",
      "1 400 loss: 0.13996370136737823\n",
      "2 0 loss: 0.13158008456230164\n",
      "2 100 loss: 0.13802003860473633\n",
      "2 200 loss: 0.12625950574874878\n",
      "2 300 loss: 0.12181083858013153\n",
      "2 400 loss: 0.12363128364086151\n",
      "3 0 loss: 0.11458437144756317\n",
      "3 100 loss: 0.12323091179132462\n",
      "3 200 loss: 0.11275351047515869\n",
      "3 300 loss: 0.11002743244171143\n",
      "3 400 loss: 0.11279760301113129\n",
      "4 0 loss: 0.1032678633928299\n",
      "4 100 loss: 0.11280091851949692\n",
      "4 200 loss: 0.1033032163977623\n",
      "4 300 loss: 0.10175305604934692\n",
      "4 400 loss: 0.10502896457910538\n",
      "5 0 loss: 0.09511105716228485\n",
      "5 100 loss: 0.10500464588403702\n",
      "5 200 loss: 0.0962817370891571\n",
      "5 300 loss: 0.0956498384475708\n",
      "5 400 loss: 0.09923167526721954\n",
      "6 0 loss: 0.08898349106311798\n",
      "6 100 loss: 0.09893582761287689\n",
      "6 200 loss: 0.09091757982969284\n",
      "6 300 loss: 0.09094583988189697\n",
      "6 400 loss: 0.09463907778263092\n",
      "7 0 loss: 0.08418150246143341\n",
      "7 100 loss: 0.09409414231777191\n",
      "7 200 loss: 0.08663162589073181\n",
      "7 300 loss: 0.08718845248222351\n",
      "7 400 loss: 0.09087326377630234\n",
      "8 0 loss: 0.08031167834997177\n",
      "8 100 loss: 0.0901283323764801\n",
      "8 200 loss: 0.08311145752668381\n",
      "8 300 loss: 0.08410249650478363\n",
      "8 400 loss: 0.08773650974035263\n",
      "9 0 loss: 0.07711158692836761\n",
      "9 100 loss: 0.08676841855049133\n",
      "9 200 loss: 0.0801287516951561\n",
      "9 300 loss: 0.08150263130664825\n",
      "9 400 loss: 0.08504607528448105\n"
     ]
    }
   ],
   "source": [
    "# [b，784] => [b，256] => [b，128] => [b，10]\n",
    "# [dim_in,dim_out],[dim_out]\n",
    "w1 = tf.Variable(tf.random.truncated_normal([784, 256], stddev=0.1))  # loss是nan，控制初始值的方差\n",
    "b1 = tf.Variable(tf.zeros([256]))\n",
    "w2 = tf.Variable(tf.random.truncated_normal([256, 128], stddev=0.1))\n",
    "b2 = tf.Variable(tf.zeros([128]))\n",
    "w3 = tf.Variable(tf.random.truncated_normal([128, 10], stddev=0.1))\n",
    "b3 = tf.Variable(tf.zeros([10]))\n",
    "\n",
    "# learning rate\n",
    "lr = 1e-3\n",
    "\n",
    "for epoch in range(10):  # iterate db for 10\n",
    "    for step, (x_train, y_train) in enumerate(train_db): \n",
    "        # x:[128，28，28]\n",
    "        # y: [128]\n",
    "        # [b，28，28] => [b，28*28]\n",
    "        x_train = tf.reshape(x_train, [-1, 28*28])\n",
    "\n",
    "        with tf.GradientTape() as tape: #tf.variable\n",
    "            # x: [b，28*28]\n",
    "            #hl= x@w1+b1\n",
    "            # [b，784]@[784，256] + [256] => [b，256] + [256] => [b，256] + [b，256]\n",
    "            h1 = x_train @ w1 + tf.broadcast_to(b1, [x_train.shape[0], 256])\n",
    "            h1 = tf.nn.relu(h1)\n",
    "            # [b，256] =>[b，128]\n",
    "            h2 = h1 @ w2 + b2\n",
    "            h2 = tf.nn.relu(h2)\n",
    "            # [b，128] => [b，10]\n",
    "            out = h2 @ w3 + b3\n",
    "            # compute loss\n",
    "            # out:[b，10]\n",
    "            # y: [b] => [b，10]\n",
    "            y_onehot = tf.one_hot(y_train, depth=10)\n",
    "            # mse = mean(sum(y-out)^2)#[b，10]\n",
    "            loss = tf.square(y_onehot - out)\n",
    "            #mean: scalar\n",
    "            loss = tf.reduce_mean(loss)\n",
    "\n",
    "        # compute gradients\n",
    "        grads = tape.gradient(loss, [w1, b1, w2, b2, w3, b3])\n",
    "        # wl = wl - lr * wl_grad\n",
    "        w1.assign_sub(lr * grads[0])  #原地更新\n",
    "        b1.assign_sub(lr * grads[1])\n",
    "        w2.assign_sub(lr * grads[2])\n",
    "        b2.assign_sub(lr * grads[3])\n",
    "        w3.assign_sub(lr * grads[4])\n",
    "        b3.assign_sub(lr * grads[5])\n",
    "\n",
    "        if step % 100 == 0:\n",
    "            print(epoch, step, 'loss:', float(loss))"
   ]
  },
  {
   "cell_type": "code",
   "execution_count": null,
   "id": "8b16cd8e",
   "metadata": {},
   "outputs": [],
   "source": []
  }
 ],
 "metadata": {
  "kernelspec": {
   "display_name": "test",
   "language": "python",
   "name": "test"
  },
  "language_info": {
   "codemirror_mode": {
    "name": "ipython",
    "version": 3
   },
   "file_extension": ".py",
   "mimetype": "text/x-python",
   "name": "python",
   "nbconvert_exporter": "python",
   "pygments_lexer": "ipython3",
   "version": "3.10.11"
  }
 },
 "nbformat": 4,
 "nbformat_minor": 5
}
